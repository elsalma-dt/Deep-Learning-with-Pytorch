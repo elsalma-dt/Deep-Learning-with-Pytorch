{
  "nbformat": 4,
  "nbformat_minor": 0,
  "metadata": {
    "colab": {
      "provenance": []
    },
    "kernelspec": {
      "name": "python3",
      "display_name": "Python 3"
    },
    "language_info": {
      "name": "python"
    }
  },
  "cells": [
    {
      "cell_type": "markdown",
      "source": [
        "# Creating a Neural Network with Python and Pytorch\n",
        "\n",
        "\n",
        "\n",
        "\n"
      ],
      "metadata": {
        "id": "wCJk90eWDOj8"
      }
    },
    {
      "cell_type": "markdown",
      "source": [
        "# Tensors\n",
        "Tensors are the fundamental building blocks in PyTorch, their job is to represent data in a numerical way.\n",
        "\n",
        "A tensor is a multi-dimensional array of numbers, used to represent data in a way that computers can understand and process. It's like a more powerful version of a matrix, able to handle not just 2D data (like images in black and white) but also data with more dimensions, like color images or 3D shapes.\n",
        "\n",
        "In general, tensors are like NumPy arrays in how they store data, but they offer more flexibility for things like GPU processing, which is important for deep learning tasks."
      ],
      "metadata": {
        "id": "vkjFFmI3mAut"
      }
    },
    {
      "cell_type": "markdown",
      "source": [
        "# Data\n",
        " We'll use torchvision to load the MNIST dataset, which is a image-based dataset showing handwritten digits from 0-9.\n",
        "\n",
        "  * We load the MNIST dataset using torchvision.datasets.MNIST.\n",
        "\n",
        "  * the training set (60,000 images).\n",
        "  * the test set (10,000 images)\n",
        "\n",
        " Then :\n",
        "     * Convert the image into a PyTorch tensor.\n",
        "     * Normalize the pixel values from the range [0, 255] (typical for images) to [0, 1] by dividing each pixel by 255, making it easier to work with in neural networks."
      ],
      "metadata": {
        "id": "CTl1iz-AwnHd"
      }
    },
    {
      "cell_type": "markdown",
      "source": [
        "**scaling/normalization of the dataset**\n",
        "\n",
        "In general, we want all input data to be between zero and one. Often many datasets will contain data in ranges that are not within this range, and we generally will want to come up with a way to scale the data to be within this range.\n",
        "\n",
        "For example, an image is comprised of pixel values, most often in the range of 0 to 255. To scale image data, you usually just divide by 255. That's it. Even though all features are just pixels, and all you do is divide by 255 before passing to the neural network, this makes a huge difference."
      ],
      "metadata": {
        "id": "q8moOWH0clBl"
      }
    },
    {
      "cell_type": "code",
      "execution_count": 1,
      "metadata": {
        "colab": {
          "base_uri": "https://localhost:8080/"
        },
        "id": "PQsDjgxFU_6u",
        "outputId": "a05756f5-cee1-45a7-cb0e-398e1b0bb8bc"
      },
      "outputs": [
        {
          "output_type": "stream",
          "name": "stdout",
          "text": [
            "Downloading http://yann.lecun.com/exdb/mnist/train-images-idx3-ubyte.gz\n",
            "Failed to download (trying next):\n",
            "<urlopen error [SSL: CERTIFICATE_VERIFY_FAILED] certificate verify failed: certificate has expired (_ssl.c:1007)>\n",
            "\n",
            "Downloading https://ossci-datasets.s3.amazonaws.com/mnist/train-images-idx3-ubyte.gz\n",
            "Downloading https://ossci-datasets.s3.amazonaws.com/mnist/train-images-idx3-ubyte.gz to MNIST/raw/train-images-idx3-ubyte.gz\n"
          ]
        },
        {
          "output_type": "stream",
          "name": "stderr",
          "text": [
            "100%|██████████| 9.91M/9.91M [00:00<00:00, 37.8MB/s]\n"
          ]
        },
        {
          "output_type": "stream",
          "name": "stdout",
          "text": [
            "Extracting MNIST/raw/train-images-idx3-ubyte.gz to MNIST/raw\n",
            "\n",
            "Downloading http://yann.lecun.com/exdb/mnist/train-labels-idx1-ubyte.gz\n",
            "Failed to download (trying next):\n",
            "<urlopen error [SSL: CERTIFICATE_VERIFY_FAILED] certificate verify failed: certificate has expired (_ssl.c:1007)>\n",
            "\n",
            "Downloading https://ossci-datasets.s3.amazonaws.com/mnist/train-labels-idx1-ubyte.gz\n",
            "Downloading https://ossci-datasets.s3.amazonaws.com/mnist/train-labels-idx1-ubyte.gz to MNIST/raw/train-labels-idx1-ubyte.gz\n"
          ]
        },
        {
          "output_type": "stream",
          "name": "stderr",
          "text": [
            "100%|██████████| 28.9k/28.9k [00:00<00:00, 1.14MB/s]"
          ]
        },
        {
          "output_type": "stream",
          "name": "stdout",
          "text": [
            "Extracting MNIST/raw/train-labels-idx1-ubyte.gz to MNIST/raw\n",
            "\n",
            "Downloading http://yann.lecun.com/exdb/mnist/t10k-images-idx3-ubyte.gz\n"
          ]
        },
        {
          "output_type": "stream",
          "name": "stderr",
          "text": [
            "\n"
          ]
        },
        {
          "output_type": "stream",
          "name": "stdout",
          "text": [
            "Failed to download (trying next):\n",
            "<urlopen error [SSL: CERTIFICATE_VERIFY_FAILED] certificate verify failed: certificate has expired (_ssl.c:1007)>\n",
            "\n",
            "Downloading https://ossci-datasets.s3.amazonaws.com/mnist/t10k-images-idx3-ubyte.gz\n",
            "Downloading https://ossci-datasets.s3.amazonaws.com/mnist/t10k-images-idx3-ubyte.gz to MNIST/raw/t10k-images-idx3-ubyte.gz\n"
          ]
        },
        {
          "output_type": "stream",
          "name": "stderr",
          "text": [
            "100%|██████████| 1.65M/1.65M [00:00<00:00, 9.58MB/s]\n"
          ]
        },
        {
          "output_type": "stream",
          "name": "stdout",
          "text": [
            "Extracting MNIST/raw/t10k-images-idx3-ubyte.gz to MNIST/raw\n",
            "\n",
            "Downloading http://yann.lecun.com/exdb/mnist/t10k-labels-idx1-ubyte.gz\n",
            "Failed to download (trying next):\n",
            "<urlopen error [SSL: CERTIFICATE_VERIFY_FAILED] certificate verify failed: certificate has expired (_ssl.c:1007)>\n",
            "\n",
            "Downloading https://ossci-datasets.s3.amazonaws.com/mnist/t10k-labels-idx1-ubyte.gz\n",
            "Downloading https://ossci-datasets.s3.amazonaws.com/mnist/t10k-labels-idx1-ubyte.gz to MNIST/raw/t10k-labels-idx1-ubyte.gz\n"
          ]
        },
        {
          "output_type": "stream",
          "name": "stderr",
          "text": [
            "100%|██████████| 4.54k/4.54k [00:00<00:00, 4.14MB/s]"
          ]
        },
        {
          "output_type": "stream",
          "name": "stdout",
          "text": [
            "Extracting MNIST/raw/t10k-labels-idx1-ubyte.gz to MNIST/raw\n",
            "\n"
          ]
        },
        {
          "output_type": "stream",
          "name": "stderr",
          "text": [
            "\n"
          ]
        }
      ],
      "source": [
        "import torch\n",
        "import torchvision\n",
        "from torchvision import transforms, datasets\n",
        "\n",
        "train = datasets.MNIST('', train=True, download=True,\n",
        "                       transform=transforms.Compose([\n",
        "                           transforms.ToTensor()\n",
        "                       ]))\n",
        "\n",
        "test = datasets.MNIST('', train=False, download=True,\n",
        "                       transform=transforms.Compose([\n",
        "                           transforms.ToTensor()\n",
        "                       ]))"
      ]
    },
    {
      "cell_type": "code",
      "source": [
        "import matplotlib.pyplot as plt\n",
        "\n",
        "image, label = train[0]\n",
        "\n",
        "plt.imshow(image.squeeze())\n",
        "plt.title(f\"Label: {label}\")\n",
        "plt.show()"
      ],
      "metadata": {
        "id": "8Z--FbLHysy0",
        "colab": {
          "base_uri": "https://localhost:8080/",
          "height": 452
        },
        "outputId": "4dc06ccb-7066-492d-e235-cc76d44cfa49"
      },
      "execution_count": 2,
      "outputs": [
        {
          "output_type": "display_data",
          "data": {
            "text/plain": [
              "<Figure size 640x480 with 1 Axes>"
            ],
            "image/png": "[encoded data removed]"
          },
          "metadata": {}
        }
      ]
    },
    {
      "cell_type": "markdown",
      "source": [
        "\n",
        "# DataLoader\n",
        "\n",
        "We'll use torch.utils.data.DataLoader to load the MNIST dataset for training and testing in batches.\n",
        "\n",
        "trainset loads the training data with shuffle=True, meaning the data will be shuffled (randomized) at the start of each training epoch to ensure the model doesn’t learn from any patterns in the order of the data.\n",
        "\n",
        "testset loads the testing data with shuffle=False, meaning the data is not shuffled because the model is only evaluated after training, and we want consistent results.\n",
        "\n",
        "batch_size=10 indicates that the data will be divided into batches of 10 images at a time for processing. This helps in training the model efficiently by processing smaller portions of data instead of the whole dataset at once.\n",
        "\n"
      ],
      "metadata": {
        "id": "LBB7_3LJWLut"
      }
    },
    {
      "cell_type": "code",
      "source": [
        "trainset = torch.utils.data.DataLoader(train, batch_size=10, shuffle=True)\n",
        "testset = torch.utils.data.DataLoader(test, batch_size=10, shuffle=False)"
      ],
      "metadata": {
        "id": "4R4lIUP8pFhn"
      },
      "execution_count": 3,
      "outputs": []
    },
    {
      "cell_type": "markdown",
      "source": [
        "**Why shuffling :**\n",
        "\n",
        "We generally want to randomly shuffle the input data as much as possible to hopefully not have any patterns in the data that might throw the machine off.\n",
        "\n",
        "For example, if you fed the machine a bunch of images of zeros, the machine would learn to classify everything as zero. Then you'd start feeding it ones, and the machine would figure out pretty quick to classify everything as ones...and so on. Whenever you stop, the machine would probably just classify everything as the last thing you trained on. If you shuffle the data, your machine is much more likely to figure out what's.\n",
        "\n",
        "**Why batches**\n",
        "\n",
        "In practice, we don't feed the entire dataset into a neural network at once for two main reasons:\n",
        "\n",
        "* Memory Limitations: Neural networks, especially when dealing with large datasets, can exceed the memory of your GPU or RAM. So, we divide the data into smaller batches that can fit into memory.\n",
        "\n",
        "* Avoiding Memorization: Neural networks can have millions of parameters, which means they could memorize the data instead of learning general patterns. By using smaller batches, the network learns more effectively by updating weights with each batch, ensuring it focuses on generalizing, not memorizing.\n",
        "\n",
        "Using small batches forces the network to focus on learning useful patterns and avoid overfitting to the data. A smaller network that generalizes well is typically more successful long-term."
      ],
      "metadata": {
        "id": "Sv2i7vUAbbs2"
      }
    },
    {
      "cell_type": "markdown",
      "source": [
        "# Loop\n",
        "data is a tuple containing two elements: the images and their corresponding labels.\n",
        "* The first element (data[0]) contains the images in the form of tensors.\n",
        "* The second element (data[1]) contains the labels (the digits the images represent)."
      ],
      "metadata": {
        "id": "OjOBuMXztmCx"
      }
    },
    {
      "cell_type": "code",
      "source": [
        "for data in trainset:  #The for data in trainset: loop goes through the batches of data.\n",
        "    print(data)\n",
        "    break   #only the first batch is printed"
      ],
      "metadata": {
        "id": "D96ADfN8pQjQ",
        "outputId": "061379c0-98b4-4be8-96cf-1f5959d13019",
        "colab": {
          "base_uri": "https://localhost:8080/"
        }
      },
      "execution_count": 4,
      "outputs": [
        {
          "output_type": "stream",
          "name": "stdout",
          "text": [
            "[tensor([[[[0., 0., 0.,  ..., 0., 0., 0.],\n",
            "          [0., 0., 0.,  ..., 0., 0., 0.],\n",
            "          [0., 0., 0.,  ..., 0., 0., 0.],\n",
            "          ...,\n",
            "          [0., 0., 0.,  ..., 0., 0., 0.],\n",
            "          [0., 0., 0.,  ..., 0., 0., 0.],\n",
            "          [0., 0., 0.,  ..., 0., 0., 0.]]],\n",
            "\n",
            "\n",
            "        [[[0., 0., 0.,  ..., 0., 0., 0.],\n",
            "          [0., 0., 0.,  ..., 0., 0., 0.],\n",
            "          [0., 0., 0.,  ..., 0., 0., 0.],\n",
            "          ...,\n",
            "          [0., 0., 0.,  ..., 0., 0., 0.],\n",
            "          [0., 0., 0.,  ..., 0., 0., 0.],\n",
            "          [0., 0., 0.,  ..., 0., 0., 0.]]],\n",
            "\n",
            "\n",
            "        [[[0., 0., 0.,  ..., 0., 0., 0.],\n",
            "          [0., 0., 0.,  ..., 0., 0., 0.],\n",
            "          [0., 0., 0.,  ..., 0., 0., 0.],\n",
            "          ...,\n",
            "          [0., 0., 0.,  ..., 0., 0., 0.],\n",
            "          [0., 0., 0.,  ..., 0., 0., 0.],\n",
            "          [0., 0., 0.,  ..., 0., 0., 0.]]],\n",
            "\n",
            "\n",
            "        ...,\n",
            "\n",
            "\n",
            "        [[[0., 0., 0.,  ..., 0., 0., 0.],\n",
            "          [0., 0., 0.,  ..., 0., 0., 0.],\n",
            "          [0., 0., 0.,  ..., 0., 0., 0.],\n",
            "          ...,\n",
            "          [0., 0., 0.,  ..., 0., 0., 0.],\n",
            "          [0., 0., 0.,  ..., 0., 0., 0.],\n",
            "          [0., 0., 0.,  ..., 0., 0., 0.]]],\n",
            "\n",
            "\n",
            "        [[[0., 0., 0.,  ..., 0., 0., 0.],\n",
            "          [0., 0., 0.,  ..., 0., 0., 0.],\n",
            "          [0., 0., 0.,  ..., 0., 0., 0.],\n",
            "          ...,\n",
            "          [0., 0., 0.,  ..., 0., 0., 0.],\n",
            "          [0., 0., 0.,  ..., 0., 0., 0.],\n",
            "          [0., 0., 0.,  ..., 0., 0., 0.]]],\n",
            "\n",
            "\n",
            "        [[[0., 0., 0.,  ..., 0., 0., 0.],\n",
            "          [0., 0., 0.,  ..., 0., 0., 0.],\n",
            "          [0., 0., 0.,  ..., 0., 0., 0.],\n",
            "          ...,\n",
            "          [0., 0., 0.,  ..., 0., 0., 0.],\n",
            "          [0., 0., 0.,  ..., 0., 0., 0.],\n",
            "          [0., 0., 0.,  ..., 0., 0., 0.]]]]), tensor([1, 9, 2, 6, 5, 2, 9, 5, 2, 7])]\n"
          ]
        }
      ]
    },
    {
      "cell_type": "markdown",
      "source": [
        "(batch_size, channels, height, width)\n",
        "\n",
        "**Tensor of Images (data[0])**\n",
        "\n",
        "* This is a 4-dimensional tensor, where each element represents an image in the batch.\n",
        "* The shape of the tensor is (batch_size, channels, height, width).\n",
        "* Each number in the tensor represents the pixel values of the images. Since the images have been transformed ToTensor, pixel values range from 0 to 1 (after normalization).\n",
        "\n",
        "\n",
        "**Tensor of Labels (data[1])**\n",
        "\n",
        "* This tensor contains the labels corresponding to the images in the batch.\n",
        "* Each value represents the correct digit for the corresponding image.\n"
      ],
      "metadata": {
        "id": "rM5WKeJKt6EB"
      }
    },
    {
      "cell_type": "code",
      "source": [
        "X, y = data[0][0], data[1][0]"
      ],
      "metadata": {
        "id": "tHaPLWwcg9zC"
      },
      "execution_count": 5,
      "outputs": []
    },
    {
      "cell_type": "code",
      "source": [
        "print(X)"
      ],
      "metadata": {
        "colab": {
          "base_uri": "https://localhost:8080/"
        },
        "id": "IOZ4t8hIgqtP",
        "outputId": "b165e8b4-66e2-46fd-a0e4-bc0f0eedea38"
      },
      "execution_count": 6,
      "outputs": [
        {
          "output_type": "stream",
          "name": "stdout",
          "text": [
            "tensor([[[0.0000, 0.0000, 0.0000, 0.0000, 0.0000, 0.0000, 0.0000, 0.0000,\n",
            "          0.0000, 0.0000, 0.0000, 0.0000, 0.0000, 0.0000, 0.0000, 0.0000,\n",
            "          0.0000, 0.0000, 0.0000, 0.0000, 0.0000, 0.0000, 0.0000, 0.0000,\n",
            "          0.0000, 0.0000, 0.0000, 0.0000],\n",
            "         [0.0000, 0.0000, 0.0000, 0.0000, 0.0000, 0.0000, 0.0000, 0.0000,\n",
            "          0.0000, 0.0000, 0.0000, 0.0000, 0.0000, 0.0000, 0.0000, 0.0000,\n",
            "          0.0000, 0.0000, 0.0000, 0.0000, 0.0000, 0.0000, 0.0000, 0.0000,\n",
            "          0.0000, 0.0000, 0.0000, 0.0000],\n",
            "         [0.0000, 0.0000, 0.0000, 0.0000, 0.0000, 0.0000, 0.0000, 0.0000,\n",
            "          0.0000, 0.0000, 0.0000, 0.0000, 0.0000, 0.0000, 0.0000, 0.0000,\n",
            "          0.0000, 0.0000, 0.0000, 0.0000, 0.0000, 0.0000, 0.0000, 0.0000,\n",
            "          0.0000, 0.0000, 0.0000, 0.0000],\n",
            "         [0.0000, 0.0000, 0.0000, 0.0000, 0.0000, 0.0000, 0.0000, 0.0000,\n",
            "          0.0000, 0.0000, 0.0000, 0.0000, 0.0000, 0.0000, 0.0000, 0.0000,\n",
            "          0.0000, 0.0000, 0.0000, 0.0000, 0.0000, 0.0000, 0.0000, 0.0000,\n",
            "          0.0000, 0.0000, 0.0000, 0.0000],\n",
            "         [0.0000, 0.0000, 0.0000, 0.0000, 0.0000, 0.0000, 0.0000, 0.0000,\n",
            "          0.0000, 0.0000, 0.0000, 0.0000, 0.0000, 0.0000, 0.0000, 0.0000,\n",
            "          0.0000, 0.0000, 0.7765, 0.8510, 0.2392, 0.0000, 0.0000, 0.0000,\n",
            "          0.0000, 0.0000, 0.0000, 0.0000],\n",
            "         [0.0000, 0.0000, 0.0000, 0.0000, 0.0000, 0.0000, 0.0000, 0.0000,\n",
            "          0.0000, 0.0000, 0.0000, 0.0000, 0.0000, 0.0000, 0.0000, 0.0000,\n",
            "          0.0000, 0.2941, 0.9843, 0.9961, 0.3882, 0.0000, 0.0000, 0.0000,\n",
            "          0.0000, 0.0000, 0.0000, 0.0000],\n",
            "         [0.0000, 0.0000, 0.0000, 0.0000, 0.0000, 0.0000, 0.0000, 0.0000,\n",
            "          0.0000, 0.0000, 0.0000, 0.0000, 0.0000, 0.0000, 0.0000, 0.0000,\n",
            "          0.0275, 0.7843, 0.9961, 0.9961, 0.1176, 0.0000, 0.0000, 0.0000,\n",
            "          0.0000, 0.0000, 0.0000, 0.0000],\n",
            "         [0.0000, 0.0000, 0.0000, 0.0000, 0.0000, 0.0000, 0.0000, 0.0000,\n",
            "          0.0000, 0.0000, 0.0000, 0.0000, 0.0000, 0.0000, 0.0000, 0.0000,\n",
            "          0.0784, 0.9961, 0.9961, 0.5765, 0.0000, 0.0000, 0.0000, 0.0000,\n",
            "          0.0000, 0.0000, 0.0000, 0.0000],\n",
            "         [0.0000, 0.0000, 0.0000, 0.0000, 0.0000, 0.0000, 0.0000, 0.0000,\n",
            "          0.0000, 0.0000, 0.0000, 0.0000, 0.0000, 0.0000, 0.0000, 0.0000,\n",
            "          0.5216, 0.9961, 0.9961, 0.2275, 0.0000, 0.0000, 0.0000, 0.0000,\n",
            "          0.0000, 0.0000, 0.0000, 0.0000],\n",
            "         [0.0000, 0.0000, 0.0000, 0.0000, 0.0000, 0.0000, 0.0000, 0.0000,\n",
            "          0.0000, 0.0000, 0.0000, 0.0000, 0.0000, 0.0000, 0.0000, 0.1451,\n",
            "          0.9412, 0.9961, 0.7529, 0.0000, 0.0000, 0.0000, 0.0000, 0.0000,\n",
            "          0.0000, 0.0000, 0.0000, 0.0000],\n",
            "         [0.0000, 0.0000, 0.0000, 0.0000, 0.0000, 0.0000, 0.0000, 0.0000,\n",
            "          0.0000, 0.0000, 0.0000, 0.0000, 0.0000, 0.0000, 0.0000, 0.4118,\n",
            "          0.9961, 0.9961, 0.1333, 0.0000, 0.0000, 0.0000, 0.0000, 0.0000,\n",
            "          0.0000, 0.0000, 0.0000, 0.0000],\n",
            "         [0.0000, 0.0000, 0.0000, 0.0000, 0.0000, 0.0000, 0.0000, 0.0000,\n",
            "          0.0000, 0.0000, 0.0000, 0.0000, 0.0000, 0.0000, 0.1216, 0.8824,\n",
            "          0.9961, 0.7804, 0.0235, 0.0000, 0.0000, 0.0000, 0.0000, 0.0000,\n",
            "          0.0000, 0.0000, 0.0000, 0.0000],\n",
            "         [0.0000, 0.0000, 0.0000, 0.0000, 0.0000, 0.0000, 0.0000, 0.0000,\n",
            "          0.0000, 0.0000, 0.0000, 0.0000, 0.0000, 0.0000, 0.4471, 0.9961,\n",
            "          0.9529, 0.1686, 0.0000, 0.0000, 0.0000, 0.0000, 0.0000, 0.0000,\n",
            "          0.0000, 0.0000, 0.0000, 0.0000],\n",
            "         [0.0000, 0.0000, 0.0000, 0.0000, 0.0000, 0.0000, 0.0000, 0.0000,\n",
            "          0.0000, 0.0000, 0.0000, 0.0000, 0.0000, 0.2706, 0.9412, 0.9961,\n",
            "          0.6196, 0.0000, 0.0000, 0.0000, 0.0000, 0.0000, 0.0000, 0.0000,\n",
            "          0.0000, 0.0000, 0.0000, 0.0000],\n",
            "         [0.0000, 0.0000, 0.0000, 0.0000, 0.0000, 0.0000, 0.0000, 0.0000,\n",
            "          0.0000, 0.0000, 0.0000, 0.0000, 0.0000, 0.6275, 0.9961, 0.8588,\n",
            "          0.0588, 0.0000, 0.0000, 0.0000, 0.0000, 0.0000, 0.0000, 0.0000,\n",
            "          0.0000, 0.0000, 0.0000, 0.0000],\n",
            "         [0.0000, 0.0000, 0.0000, 0.0000, 0.0000, 0.0000, 0.0000, 0.0000,\n",
            "          0.0000, 0.0000, 0.0000, 0.0000, 0.1725, 0.9569, 0.9961, 0.5882,\n",
            "          0.0000, 0.0000, 0.0000, 0.0000, 0.0000, 0.0000, 0.0000, 0.0000,\n",
            "          0.0000, 0.0000, 0.0000, 0.0000],\n",
            "         [0.0000, 0.0000, 0.0000, 0.0000, 0.0000, 0.0000, 0.0000, 0.0000,\n",
            "          0.0000, 0.0000, 0.0000, 0.0000, 0.6902, 0.9961, 0.8745, 0.1176,\n",
            "          0.0000, 0.0000, 0.0000, 0.0000, 0.0000, 0.0000, 0.0000, 0.0000,\n",
            "          0.0000, 0.0000, 0.0000, 0.0000],\n",
            "         [0.0000, 0.0000, 0.0000, 0.0000, 0.0000, 0.0000, 0.0000, 0.0000,\n",
            "          0.0000, 0.0000, 0.0000, 0.1020, 0.8549, 0.9961, 0.6078, 0.0000,\n",
            "          0.0000, 0.0000, 0.0000, 0.0000, 0.0000, 0.0000, 0.0000, 0.0000,\n",
            "          0.0000, 0.0000, 0.0000, 0.0000],\n",
            "         [0.0000, 0.0000, 0.0000, 0.0000, 0.0000, 0.0000, 0.0000, 0.0000,\n",
            "          0.0000, 0.0000, 0.0000, 0.7569, 0.9961, 0.9961, 0.3176, 0.0000,\n",
            "          0.0000, 0.0000, 0.0000, 0.0000, 0.0000, 0.0000, 0.0000, 0.0000,\n",
            "          0.0000, 0.0000, 0.0000, 0.0000],\n",
            "         [0.0000, 0.0000, 0.0000, 0.0000, 0.0000, 0.0000, 0.0000, 0.0000,\n",
            "          0.0000, 0.0000, 0.1451, 0.9412, 0.9961, 0.6078, 0.0000, 0.0000,\n",
            "          0.0000, 0.0000, 0.0000, 0.0000, 0.0000, 0.0000, 0.0000, 0.0000,\n",
            "          0.0000, 0.0000, 0.0000, 0.0000],\n",
            "         [0.0000, 0.0000, 0.0000, 0.0000, 0.0000, 0.0000, 0.0000, 0.0000,\n",
            "          0.0000, 0.0000, 0.8824, 0.9961, 0.9961, 0.1333, 0.0000, 0.0000,\n",
            "          0.0000, 0.0000, 0.0000, 0.0000, 0.0000, 0.0000, 0.0000, 0.0000,\n",
            "          0.0000, 0.0000, 0.0000, 0.0000],\n",
            "         [0.0000, 0.0000, 0.0000, 0.0000, 0.0000, 0.0000, 0.0000, 0.0000,\n",
            "          0.0000, 0.1216, 0.9961, 0.9961, 0.7804, 0.0235, 0.0000, 0.0000,\n",
            "          0.0000, 0.0000, 0.0000, 0.0000, 0.0000, 0.0000, 0.0000, 0.0000,\n",
            "          0.0000, 0.0000, 0.0000, 0.0000],\n",
            "         [0.0000, 0.0000, 0.0000, 0.0000, 0.0000, 0.0000, 0.0000, 0.0000,\n",
            "          0.0000, 0.5922, 1.0000, 0.9804, 0.2863, 0.0000, 0.0000, 0.0000,\n",
            "          0.0000, 0.0000, 0.0000, 0.0000, 0.0000, 0.0000, 0.0000, 0.0000,\n",
            "          0.0000, 0.0000, 0.0000, 0.0000],\n",
            "         [0.0000, 0.0000, 0.0000, 0.0000, 0.0000, 0.0000, 0.0000, 0.0000,\n",
            "          0.0000, 0.3255, 0.9961, 0.7686, 0.0000, 0.0000, 0.0000, 0.0000,\n",
            "          0.0000, 0.0000, 0.0000, 0.0000, 0.0000, 0.0000, 0.0000, 0.0000,\n",
            "          0.0000, 0.0000, 0.0000, 0.0000],\n",
            "         [0.0000, 0.0000, 0.0000, 0.0000, 0.0000, 0.0000, 0.0000, 0.0000,\n",
            "          0.0000, 0.0000, 0.0000, 0.0000, 0.0000, 0.0000, 0.0000, 0.0000,\n",
            "          0.0000, 0.0000, 0.0000, 0.0000, 0.0000, 0.0000, 0.0000, 0.0000,\n",
            "          0.0000, 0.0000, 0.0000, 0.0000],\n",
            "         [0.0000, 0.0000, 0.0000, 0.0000, 0.0000, 0.0000, 0.0000, 0.0000,\n",
            "          0.0000, 0.0000, 0.0000, 0.0000, 0.0000, 0.0000, 0.0000, 0.0000,\n",
            "          0.0000, 0.0000, 0.0000, 0.0000, 0.0000, 0.0000, 0.0000, 0.0000,\n",
            "          0.0000, 0.0000, 0.0000, 0.0000],\n",
            "         [0.0000, 0.0000, 0.0000, 0.0000, 0.0000, 0.0000, 0.0000, 0.0000,\n",
            "          0.0000, 0.0000, 0.0000, 0.0000, 0.0000, 0.0000, 0.0000, 0.0000,\n",
            "          0.0000, 0.0000, 0.0000, 0.0000, 0.0000, 0.0000, 0.0000, 0.0000,\n",
            "          0.0000, 0.0000, 0.0000, 0.0000],\n",
            "         [0.0000, 0.0000, 0.0000, 0.0000, 0.0000, 0.0000, 0.0000, 0.0000,\n",
            "          0.0000, 0.0000, 0.0000, 0.0000, 0.0000, 0.0000, 0.0000, 0.0000,\n",
            "          0.0000, 0.0000, 0.0000, 0.0000, 0.0000, 0.0000, 0.0000, 0.0000,\n",
            "          0.0000, 0.0000, 0.0000, 0.0000]]])\n"
          ]
        }
      ]
    },
    {
      "cell_type": "code",
      "source": [
        "print(y)"
      ],
      "metadata": {
        "colab": {
          "base_uri": "https://localhost:8080/"
        },
        "id": "VFXloMBMhStZ",
        "outputId": "cc7b3e6e-b98c-44f3-d9e1-e494549ed9e5"
      },
      "execution_count": 7,
      "outputs": [
        {
          "output_type": "stream",
          "name": "stdout",
          "text": [
            "tensor(1)\n"
          ]
        }
      ]
    },
    {
      "cell_type": "code",
      "source": [
        "import matplotlib.pyplot as plt\n",
        "\n",
        "plt.imshow(data[0][0].view(28,28))\n",
        "plt.show()"
      ],
      "metadata": {
        "colab": {
          "base_uri": "https://localhost:8080/",
          "height": 430
        },
        "id": "6rb8QXbAhWmb",
        "outputId": "dd956fd5-f02a-491d-8739-6143f3b7caa5"
      },
      "execution_count": 8,
      "outputs": [
        {
          "output_type": "display_data",
          "data": {
            "text/plain": [
              "<Figure size 640x480 with 1 Axes>"
            ],
            "image/png": "[encoded data removed]"
          },
          "metadata": {}
        }
      ]
    },
    {
      "cell_type": "markdown",
      "source": [
        "# Balancing data\n",
        "What is Data Balancing?\n",
        "\n",
        "Data balancing ensures that each class in our dataset has an equal number of examples. Without balancing, a model may simply predict the majority class. For example, if we have 7,200 dog images and only 1,800 cat images, the model could easily predict \"dog\" for most cases, achieving 72% accuracy without truly learning to distinguish between the classes.\n",
        "\n",
        "Balancing the data helps the model learn better by making sure each class is represented equally."
      ],
      "metadata": {
        "id": "-IGLMSVH3a0b"
      }
    },
    {
      "cell_type": "code",
      "source": [
        "total = 0\n",
        "counter_dict = {0:0, 1:0, 2:0, 3:0, 4:0, 5:0, 6:0, 7:0, 8:0, 9:0}\n",
        "\n",
        "\n",
        "for data in trainset:\n",
        "    Xs, ys = data\n",
        "    for y in ys:\n",
        "        counter_dict[int(y)] += 1 #increases by 1 the value associated with the key corresponding to y in counter_dict, thus counting each occurrence of the label.\n",
        "        total += 1 #total number of labels in trainset\n",
        "\n",
        "print(counter_dict)\n",
        "\n",
        "for i in counter_dict:\n",
        "    print(f\"{i}: {counter_dict[i]/total*100.0}%\")"
      ],
      "metadata": {
        "colab": {
          "base_uri": "https://localhost:8080/"
        },
        "id": "RLgLl0m4iGiT",
        "outputId": "9bfdc86d-a251-4265-8029-884640bbaa78"
      },
      "execution_count": 9,
      "outputs": [
        {
          "output_type": "stream",
          "name": "stdout",
          "text": [
            "{0: 5923, 1: 6742, 2: 5958, 3: 6131, 4: 5842, 5: 5421, 6: 5918, 7: 6265, 8: 5851, 9: 5949}\n",
            "0: 9.871666666666666%\n",
            "1: 11.236666666666666%\n",
            "2: 9.93%\n",
            "3: 10.218333333333334%\n",
            "4: 9.736666666666666%\n",
            "5: 9.035%\n",
            "6: 9.863333333333333%\n",
            "7: 10.441666666666666%\n",
            "8: 9.751666666666667%\n",
            "9: 9.915000000000001%\n"
          ]
        }
      ]
    },
    {
      "cell_type": "markdown",
      "source": [
        "**Results**\n",
        "\n",
        "The code shows that the classes in the dataset are not perfectly balanced, but the distribution is fairly close. Class 1 (with 6,742 examples) is the most represented, while class 5 (with 5,421 examples) is the least represented. Each class represents about 9 to 11% of the total data. This should be acceptable.\n"
      ],
      "metadata": {
        "id": "3TvzmvAG4Uv1"
      }
    },
    {
      "cell_type": "markdown",
      "source": [
        "## Create the NN model\n",
        "\n",
        " To begin, we're going to make some imports from Pytorch:\n",
        "\n",
        " * The torch.nn import gives us access to some helpful neural network things, such as various neural network layer types (things like regular fully-connected layers, convolutional layers (for imagery), recurrent layers...etc). For us, we only needt fully-connected layers.\n",
        "\n",
        "* The torch.nn.functional area specifically gives us access to some handy functions that we might not want to write ourselves. We will be using the relu  activation function for our neurons."
      ],
      "metadata": {
        "id": "zr_6hcKPmiWZ"
      }
    },
    {
      "cell_type": "code",
      "source": [
        "import torch.nn as nn\n",
        "import torch.nn.functional as F"
      ],
      "metadata": {
        "id": "HmiV331qjp29"
      },
      "execution_count": 10,
      "outputs": []
    },
    {
      "cell_type": "markdown",
      "source": [
        "# Define the Neural Network Architecture\n",
        "The architecture of the neural network is defined by creating a class that inherits from nn.Module, which is the base class for all neural network modules in PyTorch. This allows the class to use PyTorch’s built-in functionalities for neural networks.\n",
        "\n",
        "\n",
        "***\\__init__ Method (Constructor)***\n",
        "\n",
        "\n",
        "**The four fully connected (or \"dense\") layers in the network**\n",
        "* **self.fc1** is a linear layer that takes an input of size 28*28 (784).\n",
        "* **self.fc2** and **self.fc3** are linear layers that take an input of 64 features (from the previous layer) and output 64 features.\n",
        "* **self.fc4** is a linear layer that takes 64 features as input and outputs 10 features, corresponding to 10 classes for classification.\n",
        "\n",
        "***forward Method***\n",
        "\n",
        "This method defines how the data flows through the network layers. PyTorch automatically calls this method when you pass data through the network.\n",
        "\n",
        "The input x is passed through each layer sequentially:\n",
        "* self.fc1(x): The input is passed through the first linear layer, and F.relu applies the ReLU activation function to add non-linearity to the network.\n",
        "* This process is repeated for fc2 and fc3, with ReLU activation after each.\n",
        "* self.fc4(x): The last layer does not have ReLU activation, as it's often preferable to leave the final output layer as-is for classification."
      ],
      "metadata": {
        "id": "3mj8fkr_5I-p"
      }
    },
    {
      "cell_type": "code",
      "source": [
        "class Net(nn.Module):\n",
        "    def __init__(self):\n",
        "        super().__init__()\n",
        "        self.fc1 = nn.Linear(28*28, 64)\n",
        "        self.fc2 = nn.Linear(64, 64)\n",
        "        self.fc3 = nn.Linear(64, 64)\n",
        "        self.fc4 = nn.Linear(64, 10)\n",
        "\n",
        "    def forward(self, x):\n",
        "        x = F.relu(self.fc1(x))\n",
        "        x = F.relu(self.fc2(x))\n",
        "        x = F.relu(self.fc3(x))\n",
        "        x = self.fc4(x)\n",
        "        return F.log_softmax(x, dim=1)\n",
        "\n",
        "net = Net() #This line creates an instance of the Net class, initializing the model with the defined layers.\n",
        "print(net) #This line prints the architecture of the network, showing each layer and its configuration."
      ],
      "metadata": {
        "colab": {
          "base_uri": "https://localhost:8080/"
        },
        "id": "zB1fPFq9qhSw",
        "outputId": "c89bc458-beeb-41ad-c404-e6473788048a"
      },
      "execution_count": 11,
      "outputs": [
        {
          "output_type": "stream",
          "name": "stdout",
          "text": [
            "Net(\n",
            "  (fc1): Linear(in_features=784, out_features=64, bias=True)\n",
            "  (fc2): Linear(in_features=64, out_features=64, bias=True)\n",
            "  (fc3): Linear(in_features=64, out_features=64, bias=True)\n",
            "  (fc4): Linear(in_features=64, out_features=10, bias=True)\n",
            ")\n"
          ]
        }
      ]
    },
    {
      "cell_type": "markdown",
      "source": [
        "•\tReLU Activation : Rectified Linear Unit : is a non-linear activation function that is used in multi-layer neural networks or deep neural networks.\n",
        "\n",
        " the output of ReLu is the maximum value between zero and the input value. An output is equal to zero when the input value is negative and the input value when the input is positive.\n",
        "\n",
        "![image.png](data:image/png;base64,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)\n",
        "    "
      ],
      "metadata": {
        "id": "KReq7Dsk048l"
      }
    },
    {
      "cell_type": "markdown",
      "source": [
        "Softmax function : a function that converts input values to 0–1 values that sum up to 1.\n",
        "\n",
        "![image.png](data:image/png;base64,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)"
      ],
      "metadata": {
        "id": "eXMZ7zp2rP1y"
      }
    },
    {
      "cell_type": "markdown",
      "source": [
        "# Calculate loss and specify our optimizer\n",
        "**Importing the Optimizer**\n",
        "\n",
        "PyTorch provides various optimization algorithms in the torch.optim module to adjust model weights during training.\n",
        "\n",
        "**Defining the Loss Function**\n",
        "\n",
        "* The loss_function calculates how well the model predictions match the target labels.\n",
        "* nn.CrossEntropyLoss() is commonly used in classification tasks where classes are mutually exclusive.\n",
        "\n",
        "**Optimizer**\n",
        "\n",
        "* The optimizer is responsible for updating model weights to minimize the loss.\n",
        "* optim.Adam is a widely-used optimizer known for its adaptive learning rate, which speeds up convergence.\n"
      ],
      "metadata": {
        "id": "xW-6pQo1u7-G"
      }
    },
    {
      "cell_type": "code",
      "source": [
        "import torch.optim as optim\n",
        "\n",
        "loss_function = nn.CrossEntropyLoss()\n",
        "optimizer = optim.Adam(net.parameters(), lr=0.001)  #lr :determines the step size for each weight update."
      ],
      "metadata": {
        "id": "P7-gODvFu7X4"
      },
      "execution_count": 12,
      "outputs": []
    },
    {
      "cell_type": "markdown",
      "source": [
        "#  Train the neural network model\n",
        "In this code, we’ll go through 3 epochs, meaning you’ll pass through the dataset 3 times.\n",
        "\n",
        "This code trains the model,\n",
        "So, for each epoch, and for each batch in our dataset, we :\n",
        "\n",
        "* Grab the features (X) and labels (y) from current batch\n",
        "* Zero the gradients (net.zero_grad)\n",
        "* Pass the data through the network\n",
        "* Calculate the loss\n",
        "* Adjust weights in the network with the hopes of decreasing loss\n",
        "\n",
        "The goal is to minimize the loss as the epochs progress, improving the model’s performance on the dataset."
      ],
      "metadata": {
        "id": "J2l2tq-v25Bq"
      }
    },
    {
      "cell_type": "code",
      "source": [
        "for epoch in range(3): #  3 epochs\n",
        "    for data in trainset:  # `data` is a batch of data\n",
        "        X, y = data  # X is the batch of features, y is the batch of targets.\n",
        "        net.zero_grad()  # sets gradients to 0 before loss calc.It’s crucial to clear previous gradients because, by default, PyTorch accumulates gradients. This would otherwise lead to incorrect weight updates.\n",
        "        output = net(X.view(-1,784))  # pass in the reshaped batch (recall they are 28x28 atm)\n",
        "        loss = F.nll_loss(output, y)  # calc and grab the loss value\n",
        "        loss.backward()  # apply this loss backwards thru the network's parameters\n",
        "        optimizer.step()  # attempt to optimize weights to account for loss/gradients\n",
        "    print(loss)  # print loss."
      ],
      "metadata": {
        "colab": {
          "base_uri": "https://localhost:8080/"
        },
        "id": "xveT1BczvP75",
        "outputId": "cca0da55-7203-4a9d-fc44-864cdc41488b"
      },
      "execution_count": 13,
      "outputs": [
        {
          "output_type": "stream",
          "name": "stdout",
          "text": [
            "tensor(0.3951, grad_fn=<NllLossBackward0>)\n",
            "tensor(0.0013, grad_fn=<NllLossBackward0>)\n",
            "tensor(0.0642, grad_fn=<NllLossBackward0>)\n"
          ]
        }
      ]
    },
    {
      "cell_type": "markdown",
      "source": [
        "# Accuracy\n",
        "\n",
        "To evaluate accuracy, we use our test set and compare the model’s predictions to the actual target values.\n",
        "\n",
        "This code computes the model's accuracy on the test set by:\n",
        "\n",
        "* Passing each batch through the model and getting predictions.\n",
        "* Comparing each prediction with the actual label.\n",
        "* Counting correct predictions and dividing by the total to get the accuracy.\n",
        "\n",
        "This gives a good measure of the model's performance on unseen data, which helps determine how well the model generalizes.\n"
      ],
      "metadata": {
        "id": "GJVpAk0G89D4"
      }
    },
    {
      "cell_type": "code",
      "source": [
        "correct = 0 # Keeps a count of the correctly predicted labels.\n",
        "total = 0 # Keeps a count of all the labels in the test set, allowing us to calculate accuracy as a ratio.\n",
        "\n",
        "with torch.no_grad(): # This makes the code faster and reduces memory usage since we don’t need gradients for testing/evaluation (we’re not updating any weights).\n",
        "    for data in testset:\n",
        "        X, y = data\n",
        "        output = net(X.view(-1,784))\n",
        "        for idx, i in enumerate(output):\n",
        "            if torch.argmax(i) == y[idx]:\n",
        "                correct += 1\n",
        "            total += 1\n",
        "\n",
        "print(\"Accuracy: \", round(correct/total, 3))"
      ],
      "metadata": {
        "colab": {
          "base_uri": "https://localhost:8080/"
        },
        "id": "m7d_5YHYv_Iq",
        "outputId": "2ab33dca-b49a-4031-f8d2-554697c1bb3d"
      },
      "execution_count": 14,
      "outputs": [
        {
          "output_type": "stream",
          "name": "stdout",
          "text": [
            "Accuracy:  0.969\n"
          ]
        }
      ]
    },
    {
      "cell_type": "markdown",
      "source": [
        "# Evaluate the model\n",
        "\n",
        "Here, X[0] represents the first simage from the batch .\n",
        "\n",
        "* Reshape the image from its 2D (28x28) format into a 1D vector with 784 elements, making it suitable for the input layer of the neural network.\n",
        "*  Pass the reshaped image through the network, which returns an output tensor with 10 values, representing the model's confidence in each of the 10 possible classes (for instance, digits 0-9).\n",
        "* torch.argmax(): argmax finds the index of the highest value in the output, which corresponds to the model’s predicted class. The output is tensor(7), meaning the model predicts this image belongs to class 7."
      ],
      "metadata": {
        "id": "mMDEZijWBPUb"
      }
    },
    {
      "cell_type": "code",
      "source": [
        "print(torch.argmax(net(X[0].view(-1,784))[0]))"
      ],
      "metadata": {
        "colab": {
          "base_uri": "https://localhost:8080/"
        },
        "id": "PryrVLWZwY4t",
        "outputId": "63d78327-3ef1-4613-c9f9-a1e85f829eb6"
      },
      "execution_count": 15,
      "outputs": [
        {
          "output_type": "stream",
          "name": "stdout",
          "text": [
            "tensor(7)\n"
          ]
        }
      ]
    },
    {
      "cell_type": "code",
      "source": [
        "import matplotlib.pyplot as plt\n",
        "\n",
        "plt.imshow(X[0].view(28,28))\n",
        "plt.show()"
      ],
      "metadata": {
        "colab": {
          "base_uri": "https://localhost:8080/",
          "height": 430
        },
        "id": "BK7xrTyzwS2E",
        "outputId": "a6078308-ad64-4f06-c2d5-e40e257d1adb"
      },
      "execution_count": 16,
      "outputs": [
        {
          "output_type": "display_data",
          "data": {
            "text/plain": [
              "<Figure size 640x480 with 1 Axes>"
            ],
            "image/png": "[encoded data removed]"
          },
          "metadata": {}
        }
      ]
    },
    {
      "cell_type": "code",
      "source": [
        "a_featureset = X[0]\n",
        "reshaped_for_network = a_featureset.view(-1,784) # 784 b/c 28*28 image resolution.\n",
        "output = net(reshaped_for_network) # Passes the reshaped image through the network.\n",
        "first_pred = output[0] #contains the prediction scores for each class for the first sample.\n",
        "print(first_pred)"
      ],
      "metadata": {
        "colab": {
          "base_uri": "https://localhost:8080/"
        },
        "id": "Zl0zoxHHwail",
        "outputId": "6ed45b55-0c4b-43d6-e5e8-1e5ff7968693"
      },
      "execution_count": 17,
      "outputs": [
        {
          "output_type": "stream",
          "name": "stdout",
          "text": [
            "tensor([-3.0453e+01, -1.3103e+01, -1.3306e+01, -1.2216e+01, -2.0251e+01,\n",
            "        -1.8845e+01, -4.4081e+01, -9.1791e-06, -1.7467e+01, -1.4674e+01],\n",
            "       grad_fn=<SelectBackward0>)\n"
          ]
        }
      ]
    },
    {
      "cell_type": "markdown",
      "source": [
        "Each value represents the score for each class (0 through 9). Higher values indicate higher confidence for a particular class."
      ],
      "metadata": {
        "id": "889ts8SyB-m0"
      }
    },
    {
      "cell_type": "code",
      "source": [
        "biggest_index = torch.argmax(first_pred)\n",
        "print(biggest_index)"
      ],
      "metadata": {
        "colab": {
          "base_uri": "https://localhost:8080/"
        },
        "id": "_1ggfZEuwztb",
        "outputId": "b9c02f97-d22b-454d-d660-c831dddca111"
      },
      "execution_count": 18,
      "outputs": [
        {
          "output_type": "stream",
          "name": "stdout",
          "text": [
            "tensor(7)\n"
          ]
        }
      ]
    }
  ]
}